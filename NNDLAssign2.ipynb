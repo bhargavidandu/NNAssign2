{
  "nbformat": 4,
  "nbformat_minor": 0,
  "metadata": {
    "colab": {
      "provenance": []
    },
    "kernelspec": {
      "name": "python3",
      "display_name": "Python 3"
    },
    "language_info": {
      "name": "python"
    }
  },
  "cells": [
    {
      "cell_type": "code",
      "execution_count": 12,
      "metadata": {
        "colab": {
          "base_uri": "https://localhost:8080/"
        },
        "id": "JZoNOrMqegBl",
        "outputId": "72283bf2-ff86-418d-976c-b3980f70db26"
      },
      "outputs": [
        {
          "output_type": "stream",
          "name": "stdout",
          "text": [
            "Full Name: Bhargavi Dandu\n"
          ]
        }
      ],
      "source": [
        "def fullname(first_name, last_name):\n",
        "    return first_name + \" \" + last_name\n",
        "\n",
        "first_name = \"Bhargavi\"\n",
        "last_name = \"Dandu\"\n",
        "\n",
        "print(\"Full Name:\", fullname(first_name, last_name))"
      ]
    },
    {
      "cell_type": "code",
      "source": [
        "def str_alternative(Str):\n",
        "    return Str[::2]\n",
        "\n",
        "print(str_alternative(\"Good evening\"))"
      ],
      "metadata": {
        "colab": {
          "base_uri": "https://localhost:8080/"
        },
        "id": "X9BSwNNih6_r",
        "outputId": "6a74bcf0-dc2f-42f7-b1c6-251754e07aa9"
      },
      "execution_count": 13,
      "outputs": [
        {
          "output_type": "stream",
          "name": "stdout",
          "text": [
            "Go vnn\n"
          ]
        }
      ]
    },
    {
      "cell_type": "code",
      "source": [
        "text = open(\"input.txt\", \"r\")\n",
        "d = dict()\n",
        "for line in text:\n",
        "  line = line.strip()\n",
        "  line = line.lower()\n",
        "  words = line.split(\" \")\n",
        "  for word in words:\n",
        "    if word in d:\n",
        "      d[word] = d[word] + 1\n",
        "    else:\n",
        "      d[word] = 1\n",
        "file1 = open('output.txt', 'w')\n",
        "s=\"\"\n",
        "for key in list(d.keys()):\n",
        "     s += key+ \":\" + str(d[key])+ \"\\n\"\n",
        "file1.write(s)\n",
        "file1.close()"
      ],
      "metadata": {
        "id": "P34QNCnsmYxS"
      },
      "execution_count": 15,
      "outputs": []
    },
    {
      "cell_type": "code",
      "source": [
        "heights = [150, 155, 145, 148]\n",
        "centimeters = []\n",
        "\n",
        "for height in heights:\n",
        "    cm = height * 2.54\n",
        "    centimeters.append(cm)\n",
        "\n",
        "print(\"Heights in inches:\", heights)\n",
        "print(\"Heights in centimeters:\", centimeters)"
      ],
      "metadata": {
        "colab": {
          "base_uri": "https://localhost:8080/"
        },
        "id": "tObXdhrXjkOA",
        "outputId": "65262234-5cd6-473e-e00d-8008bcafdc24"
      },
      "execution_count": 16,
      "outputs": [
        {
          "output_type": "stream",
          "name": "stdout",
          "text": [
            "Heights in inches: [150, 155, 145, 148]\n",
            "Heights in centimeters: [381.0, 393.7, 368.3, 375.92]\n"
          ]
        }
      ]
    },
    {
      "cell_type": "code",
      "source": [
        "heights = [150,155, 145, 148] # sample list of heights in inches\n",
        "centimeters = [round(height * 2.54, 2) for height in heights] # convert each height in inches to centimeters and store it in a new list using list comprehension\n",
        "\n",
        "print(\"Heights in inches:\", heights)\n",
        "print(\"Heights in centimeters:\", centimeters)\n"
      ],
      "metadata": {
        "colab": {
          "base_uri": "https://localhost:8080/"
        },
        "id": "aZwMfvDsm3V0",
        "outputId": "0564d087-c7a5-41ee-e64d-597983e331d6"
      },
      "execution_count": 17,
      "outputs": [
        {
          "output_type": "stream",
          "name": "stdout",
          "text": [
            "Heights in inches: [150, 155, 145, 148]\n",
            "Heights in centimeters: [381.0, 393.7, 368.3, 375.92]\n"
          ]
        }
      ]
    },
    {
      "cell_type": "code",
      "source": [],
      "metadata": {
        "id": "24Sr_3t-t8na"
      },
      "execution_count": null,
      "outputs": []
    }
  ]
}